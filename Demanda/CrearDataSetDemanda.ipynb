{
 "cells": [
  {
   "cell_type": "code",
   "execution_count": 1,
   "metadata": {},
   "outputs": [],
   "source": [
    "import pandas as pd"
   ]
  },
  {
   "cell_type": "code",
   "execution_count": 3,
   "metadata": {},
   "outputs": [],
   "source": [
    "volumen_df = pd.read_csv('volumen.csv')\n",
    "\n",
    "precio_max_df = pd.read_csv('precio_max_papas_por_mes.csv')\n",
    "precio_prom_df = pd.read_csv('precio_prom_papas_por_mes.csv')\n",
    "precio_min_df = pd.read_csv('precio_min_papas_por_mes.csv')"
   ]
  },
  {
   "cell_type": "code",
   "execution_count": null,
   "metadata": {},
   "outputs": [],
   "source": [
    "df_max_melted = precio_max_df.melt(id_vars=[\"Fecha\"], var_name=\"VariedadPapa\", value_name=\"PMax\")\n",
    "df_min_melted = precio_min_df.melt(id_vars=[\"Fecha\"], var_name=\"VariedadPapa\", value_name=\"PMin\")\n",
    "df_prom_melted = precio_prom_df.melt(id_vars=[\"Fecha\"], var_name=\"VariedadPapa\", value_name=\"PProm\")\n",
    "df_vol_melted = volumen_df.melt(id_vars=[\"Fecha\"], var_name=\"VariedadPapa\", value_name=\"Volumen\")\n",
    "\n",
    "df_general = pd.merge(df_max_melted, df_min_melted, on=[\"Fecha\", \"VariedadPapa\"])\n",
    "df_general = pd.merge(df_general, df_prom_melted, on=[\"Fecha\", \"VariedadPapa\"])\n",
    "df_general = pd.merge(df_general, df_vol_melted, on=[\"Fecha\", \"VariedadPapa\"])"
   ]
  },
  {
   "cell_type": "code",
   "execution_count": 7,
   "metadata": {},
   "outputs": [
    {
     "data": {
      "text/html": [
       "<div>\n",
       "<style scoped>\n",
       "    .dataframe tbody tr th:only-of-type {\n",
       "        vertical-align: middle;\n",
       "    }\n",
       "\n",
       "    .dataframe tbody tr th {\n",
       "        vertical-align: top;\n",
       "    }\n",
       "\n",
       "    .dataframe thead th {\n",
       "        text-align: right;\n",
       "    }\n",
       "</style>\n",
       "<table border=\"1\" class=\"dataframe\">\n",
       "  <thead>\n",
       "    <tr style=\"text-align: right;\">\n",
       "      <th></th>\n",
       "      <th>Fecha</th>\n",
       "      <th>VariedadPapa</th>\n",
       "      <th>PMax</th>\n",
       "      <th>PMin</th>\n",
       "      <th>PProm</th>\n",
       "      <th>Volumen</th>\n",
       "    </tr>\n",
       "  </thead>\n",
       "  <tbody>\n",
       "    <tr>\n",
       "      <th>0</th>\n",
       "      <td>ENE-2015</td>\n",
       "      <td>Papa Amarilla</td>\n",
       "      <td>3.0</td>\n",
       "      <td>1.1</td>\n",
       "      <td>1.72</td>\n",
       "      <td>1968.0</td>\n",
       "    </tr>\n",
       "    <tr>\n",
       "      <th>1</th>\n",
       "      <td>FEB-2015</td>\n",
       "      <td>Papa Amarilla</td>\n",
       "      <td>1.7</td>\n",
       "      <td>1.4</td>\n",
       "      <td>1.52</td>\n",
       "      <td>1290.0</td>\n",
       "    </tr>\n",
       "    <tr>\n",
       "      <th>2</th>\n",
       "      <td>MAR-2015</td>\n",
       "      <td>Papa Amarilla</td>\n",
       "      <td>2.2</td>\n",
       "      <td>1.4</td>\n",
       "      <td>1.64</td>\n",
       "      <td>1629.0</td>\n",
       "    </tr>\n",
       "    <tr>\n",
       "      <th>3</th>\n",
       "      <td>ABR-2015</td>\n",
       "      <td>Papa Amarilla</td>\n",
       "      <td>1.4</td>\n",
       "      <td>0.9</td>\n",
       "      <td>1.16</td>\n",
       "      <td>1286.0</td>\n",
       "    </tr>\n",
       "    <tr>\n",
       "      <th>4</th>\n",
       "      <td>MAY-2015</td>\n",
       "      <td>Papa Amarilla</td>\n",
       "      <td>1.6</td>\n",
       "      <td>1.0</td>\n",
       "      <td>1.23</td>\n",
       "      <td>1210.0</td>\n",
       "    </tr>\n",
       "  </tbody>\n",
       "</table>\n",
       "</div>"
      ],
      "text/plain": [
       "      Fecha   VariedadPapa  PMax  PMin  PProm  Volumen\n",
       "0  ENE-2015  Papa Amarilla   3.0   1.1   1.72   1968.0\n",
       "1  FEB-2015  Papa Amarilla   1.7   1.4   1.52   1290.0\n",
       "2  MAR-2015  Papa Amarilla   2.2   1.4   1.64   1629.0\n",
       "3  ABR-2015  Papa Amarilla   1.4   0.9   1.16   1286.0\n",
       "4  MAY-2015  Papa Amarilla   1.6   1.0   1.23   1210.0"
      ]
     },
     "execution_count": 7,
     "metadata": {},
     "output_type": "execute_result"
    }
   ],
   "source": [
    "df_general.to_csv('demanda.csv', index=False)\n",
    "df_general.head()"
   ]
  }
 ],
 "metadata": {
  "kernelspec": {
   "display_name": "venv",
   "language": "python",
   "name": "python3"
  },
  "language_info": {
   "codemirror_mode": {
    "name": "ipython",
    "version": 3
   },
   "file_extension": ".py",
   "mimetype": "text/x-python",
   "name": "python",
   "nbconvert_exporter": "python",
   "pygments_lexer": "ipython3",
   "version": "3.13.1"
  }
 },
 "nbformat": 4,
 "nbformat_minor": 2
}
